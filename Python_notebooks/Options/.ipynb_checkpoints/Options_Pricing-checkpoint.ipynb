{
 "cells": [
  {
   "cell_type": "code",
   "execution_count": 4,
   "metadata": {},
   "outputs": [],
   "source": [
    "import numpy  as np\n",
    "import scipy.stats as si"
   ]
  },
  {
   "cell_type": "markdown",
   "metadata": {},
   "source": [
    "# Binomial Trees "
   ]
  },
  {
   "cell_type": "code",
   "execution_count": 5,
   "metadata": {},
   "outputs": [],
   "source": [
    "# N = number of nodes \n",
    "# T = maturity time \n",
    "# S = stock price \n",
    "# K = strike price \n",
    "# r = risk-free rate \n",
    "# sigma - volatility \n",
    "# options - call or put \n",
    "\n",
    "\n",
    "\n",
    "def bionomial_tree(N,T,S,K,r,sigma, options) :\n",
    "\n",
    "    # delta T \n",
    "    dt = T/N\n",
    "    \n",
    "    # caculate up,down and probaility \n",
    "    u = np.exp(sigma*np.sqrt(dt))\n",
    "    d = 1/u \n",
    "    p = (np.exp(r*dt) - d)/(u-d)\n",
    "    \n",
    "    #create a matrix M for stock prices \n",
    "    M = np.zeros(shape=(N+1,N+1))\n",
    "    # set inital stock price \n",
    "    M[0,0] = S \n",
    "    \n",
    "    # set-up parameters for calculating stock prices \n",
    "    a = 1\n",
    "    c = 2\n",
    "    up_N = 0 \n",
    "    down_N = 0\n",
    "    \n",
    "    # calculate stock price for each node \n",
    "    for x,i in enumerate(range(1,N+1)): \n",
    "\n",
    "        up_N = x + 1\n",
    "        down_N = 0\n",
    "\n",
    "        for j in range(0,c):\n",
    "\n",
    "            M[j][a] = S*u**(up_N)*d**(down_N)\n",
    "\n",
    "            up_N = up_N - 1\n",
    "            down_N = down_N + 1 \n",
    "\n",
    "        a = a +1 \n",
    "        c = c +1 \n",
    "        \n",
    "    # calculate the option price based on the stock price \n",
    "\n",
    "    if options == 'call' : \n",
    "\n",
    "        option = np.zeros([N+1,N+1])\n",
    "        option[:,N] = np.maximum(np.zeros(N+1),M[:,N]-K)\n",
    "\n",
    "\n",
    "    if options == 'put' : \n",
    "\n",
    "        option = np.zeros([N+1,N+1])\n",
    "        option[:,N] = np.maximum(K-M[:,N],np.zeros(N+1))\n",
    "\n",
    "    for i in np.arange(N-1,-1,-1):\n",
    "        for j in np.arange(0,i+1):\n",
    "            option[j,i] = np.exp(-r*dt)*(p*option[j,i+1]+(1-p)*option[j+1,i+1])\n",
    "\n",
    "\n",
    "    # return option value at time start time \n",
    "    return round(option[0,0],4)\n",
    "    \n",
    "    \n",
    "    \n"
   ]
  },
  {
   "cell_type": "code",
   "execution_count": 6,
   "metadata": {},
   "outputs": [],
   "source": [
    "N = 100\n",
    "T = 30/365\n",
    "S = 100\n",
    "K = 99\n",
    "r = 0.01\n",
    "sigma = 0.10\n",
    "option = 'put'"
   ]
  },
  {
   "cell_type": "code",
   "execution_count": 7,
   "metadata": {},
   "outputs": [
    {
     "data": {
      "text/plain": [
       "0.6789"
      ]
     },
     "execution_count": 7,
     "metadata": {},
     "output_type": "execute_result"
    }
   ],
   "source": [
    "bionomial_tree(N,T,S,K,r,sigma, option)"
   ]
  },
  {
   "cell_type": "code",
   "execution_count": 8,
   "metadata": {},
   "outputs": [
    {
     "name": "stdout",
     "output_type": "stream",
     "text": [
      "N:2\n"
     ]
    }
   ],
   "source": [
    "N = input('Number of Nodes:')"
   ]
  },
  {
   "cell_type": "markdown",
   "metadata": {},
   "source": [
    "# Black - Scholes "
   ]
  },
  {
   "cell_type": "code",
   "execution_count": 70,
   "metadata": {},
   "outputs": [],
   "source": [
    "    #S: spot price\n",
    "    #K: strike price\n",
    "    #T: time to maturity\n",
    "    #r: interest rate\n",
    "    #q: rate of continuous dividend paying asset \n",
    "    #sigma: volatility of underlying asset\n",
    "\n",
    "\n",
    "def black_scholes(S, K, T, r,q, sigma, option):\n",
    "\n",
    "        d1 = (np.log(S / K) + (r - q + 0.5 * sigma ** 2) * T) / (sigma * np.sqrt(T))\n",
    "        d2 = (np.log(S / K) + (r - q - 0.5 * sigma ** 2) * T) / (sigma * np.sqrt(T))\n",
    "\n",
    "        if option == 'call':\n",
    "            result = (S * si.norm.cdf(d1, 0.0, 1.0) - K * np.exp(-r * T) * si.norm.cdf(d2, 0.0, 1.0))\n",
    "        if option == 'put':\n",
    "            result = (K * np.exp(-r * T) * si.norm.cdf(-d2, 0.0, 1.0) - S * si.norm.cdf(-d1, 0.0, 1.0))\n",
    "\n",
    "        return result"
   ]
  },
  {
   "cell_type": "code",
   "execution_count": 71,
   "metadata": {},
   "outputs": [
    {
     "data": {
      "text/plain": [
       "0.6776647614109805"
      ]
     },
     "execution_count": 71,
     "metadata": {},
     "output_type": "execute_result"
    }
   ],
   "source": [
    "T = 30/365\n",
    "S = 100\n",
    "K = 99\n",
    "r = 0.01\n",
    "q = 0\n",
    "sigma = 0.10\n",
    "option = 'put'\n",
    "\n",
    "black_scholes(S, K, T, r,q, sigma, option)"
   ]
  },
  {
   "cell_type": "code",
   "execution_count": null,
   "metadata": {},
   "outputs": [],
   "source": []
  }
 ],
 "metadata": {
  "kernelspec": {
   "display_name": "Python 3",
   "language": "python",
   "name": "python3"
  },
  "language_info": {
   "codemirror_mode": {
    "name": "ipython",
    "version": 3
   },
   "file_extension": ".py",
   "mimetype": "text/x-python",
   "name": "python",
   "nbconvert_exporter": "python",
   "pygments_lexer": "ipython3",
   "version": "3.7.1"
  }
 },
 "nbformat": 4,
 "nbformat_minor": 2
}
